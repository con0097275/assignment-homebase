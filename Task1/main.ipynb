{
 "cells": [
  {
   "cell_type": "markdown",
   "metadata": {},
   "source": [
    "<h2 style=\"color:tomato;\">Task 1: Python Programming</h2>\n",
    "Write a Python program that accomplishes the following: <br><br>\n",
    "●\tReads a CSV file named \"data.csv\" containing two columns: \"Name\" and \"Age\".<br><br>\n",
    "●\tCalculates and prints the average age of individuals in the CSV file. <br><br>\n",
    "●\tGracefully handles potential errors or special cases.<br><br>\n"
   ]
  },
  {
   "cell_type": "markdown",
   "metadata": {},
   "source": [
    "<h1 style=\"color:tomato;\">Solution:</h1>"
   ]
  },
  {
   "cell_type": "code",
   "execution_count": 46,
   "metadata": {},
   "outputs": [
    {
     "name": "stdout",
     "output_type": "stream",
     "text": [
      "The average age of individuals is: 27\n"
     ]
    }
   ],
   "source": [
    "import pandas as pd\n",
    "def calculate_average_age(file_name):\n",
    "    try:\n",
    "        # Read the CSV file into a Pandas DataFrame\n",
    "        data = pd.read_csv(file_name)\n",
    "        \n",
    "        # Check if the required columns 'Name' and 'Age' exist in the DataFrame\n",
    "        if 'Name' in data.columns and 'Age' in data.columns:\n",
    "            # Preprocessing data\n",
    "            # drop the duplicated row\n",
    "            data=data.drop_duplicates()\n",
    "            # remove all rows wit NULL values from the DataFrame\n",
    "            data = data.dropna()\n",
    "            # change the type of \"Age\" column to integer\n",
    "            data['Age'] = data['Age'].astype(int)\n",
    "            #remove row having \"Age\" value <0 or Age>=200\n",
    "            data = data[ (data['Age']>=0) & (data['Age']<200) ]\n",
    "            #save the cleaned dataframe to another csv file (after preprocessing)\n",
    "            data.to_csv(\"cleanedData.csv\",index=False)\n",
    "            # Calculate the average age\n",
    "            average_age = data['Age'].mean()\n",
    "            print(f\"The average age of individuals is: {average_age:.0f}\")\n",
    "        else:\n",
    "            print(\"The 'Name' or 'Age' column is missing in the CSV file.\")\n",
    "    except FileNotFoundError:\n",
    "        print(\"File not found. Please ensure File name exists.\")\n",
    "    except pd.errors.EmptyDataError:\n",
    "        print(\"The CSV file is empty.\")\n",
    "    except pd.errors.ParserError as e:\n",
    "        print(f\"Error parsing CSV file: {e}\")\n",
    "    except Exception as e:\n",
    "        print(f\"An error occurred: {e}\")\n",
    "\n",
    "# Replace 'data.csv' with the actual file path if it's in a different directory.\n",
    "file_path = 'data.csv'\n",
    "\n",
    "calculate_average_age(file_path)"
   ]
  },
  {
   "cell_type": "markdown",
   "metadata": {},
   "source": [
    "<h4 style=\"color:tomato;\">Note:</h4> When the data is becoming larger that exceed the capabilities of a single machine's memory or processing power, using distributed computing frameworks like Apache Spark can be beneficial. Spark is designed for processing large-scale data across clusters of computers, enabling faster data processing and analytics."
   ]
  }
 ],
 "metadata": {
  "kernelspec": {
   "display_name": "Python 3",
   "language": "python",
   "name": "python3"
  },
  "language_info": {
   "codemirror_mode": {
    "name": "ipython",
    "version": 3
   },
   "file_extension": ".py",
   "mimetype": "text/x-python",
   "name": "python",
   "nbconvert_exporter": "python",
   "pygments_lexer": "ipython3",
   "version": "3.11.4"
  }
 },
 "nbformat": 4,
 "nbformat_minor": 2
}
