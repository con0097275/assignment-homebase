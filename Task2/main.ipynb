{
 "cells": [
  {
   "cell_type": "markdown",
   "metadata": {},
   "source": [
    "<h2 style=\"color:tomato;\">Task 2: Data Structures: E-commerce Inventory Schema </h2>\n",
    "\n",
    "Design a data schema for an online store's inventory management system: \n",
    "\n",
    "●\tProduct Information: Store product details including Name, Description, Price, Quantity in stock, and Product type.<br><br>\n",
    "●\tOrder Management: Define the structure to store order information, including Purchased Products, Order Date, Customer Information (Name, Address, Phone Number), and Order Status. <br><br>\n",
    "●\tInventory Tracking: Design a structure to track inventory transactions, updating stock quantity after each transaction. Store transaction dates, quantity in/out, and associated products. <br><br>\n",
    "\n",
    "Additional Notes:<br><br>\n",
    "●\tDescribe relationships between tables or entities if applicable. <br><br>\n",
    "●\tUse appropriate data types (VARCHAR, INT, DATE, etc.) and apply constraints as needed.\n"
   ]
  },
  {
   "cell_type": "markdown",
   "metadata": {},
   "source": [
    "<h1 style=\"color:tomato;\">Solution:</h1>"
   ]
  },
  {
   "cell_type": "markdown",
   "metadata": {},
   "source": [
    "<img src=\"dataschema_.png\" alt=\"data schema\">"
   ]
  },
  {
   "cell_type": "markdown",
   "metadata": {},
   "source": [
    "<h2 style=\"color:tomato;\">Note:</h2>\n",
    "- \"Type\" in Transaction Table include (\"IN\" or \"OUT\"). Or more details if you want.<br><br>\n",
    "- After the Customer orders products successfully, the Order and OrderDetail Tables save that information and also in Transaction Table (with Type=\"OUT\" and corresponding Quatity of Products), then the system will trigger the Product Table to update the \"QualityInStock\" of the Product. <br> <br>\n",
    "- The same as Suppliers. Suppliers can supply products to the warehouse. After supplying, it will save the detailed information in the Transaction table (with type=\"IN\", and corresponding Quatity of Products), it also triggers the Product Table to update the \"QualityInStock\" of the Product (plus the number of products added)."
   ]
  }
 ],
 "metadata": {
  "language_info": {
   "name": "python"
  }
 },
 "nbformat": 4,
 "nbformat_minor": 2
}
