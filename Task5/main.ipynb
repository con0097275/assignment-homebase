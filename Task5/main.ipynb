{
 "cells": [
  {
   "cell_type": "markdown",
   "metadata": {},
   "source": [
    "<h2 style=\"color:tomato;\">Task 5: Database and SQL - Stored Procedure Creation</h2>\n",
    "Develop a stored procedure to manage blog posts in a relational database: \n",
    "<br><br>\n",
    "●\tStored Procedure Creation: Write a stored procedure in SQL to perform operations related to blog posts. Include functionalities for adding new posts, retrieving post details, updating posts, and deleting posts.\n",
    "<br><br>\n",
    "●\tEnhance Functionality: Implement additional functionalities within the stored procedure, such as managing user interactions like adding comments to posts, deleting comments, and fetching post-related data.\n"
   ]
  },
  {
   "cell_type": "markdown",
   "metadata": {},
   "source": [
    "<h2 style=\"color:tomato;\">Solution:</h2>"
   ]
  },
  {
   "cell_type": "markdown",
   "metadata": {},
   "source": [
    "<h3>Database shema Design:</h3>\n",
    "<img src=\"dataschema.png\" alt=\"data schema\">"
   ]
  },
  {
   "cell_type": "markdown",
   "metadata": {},
   "source": [
    "<h3>Code Procedure:</h3>"
   ]
  },
  {
   "cell_type": "markdown",
   "metadata": {},
   "source": [
    "<pre>\n",
    "-- Stored Procedure for managing blog posts\n",
    "\n",
    "-- Functionality: Add new blog post\n",
    "CREATE PROCEDURE AddNewBlogPost (\n",
    "    @Title VARCHAR(255),\n",
    "    @Content TEXT,\n",
    "    @UserID INT\n",
    ")\n",
    "AS\n",
    "BEGIN\n",
    "    INSERT INTO BlogPost (Title, Content, UserID, CreatedAt)\n",
    "    VALUES (@Title, @Content, @UserID, GETDATE());\n",
    "END;\n",
    "\n",
    "-- Functionality: Retrieve post details by UserID\n",
    "CREATE PROCEDURE GetPostDetails (\n",
    "    @UserID INT\n",
    ")\n",
    "AS\n",
    "BEGIN\n",
    "    SELECT * FROM BlogPost WHERE UserID = @UserID;\n",
    "END;\n",
    "\n",
    "-- Functionality: Update blog post details\n",
    "CREATE PROCEDURE UpdateBlogPost (\n",
    "    @PostID INT,\n",
    "    @Title VARCHAR(255),\n",
    "    @Content TEXT\n",
    ")\n",
    "AS\n",
    "BEGIN\n",
    "    UPDATE BlogPost\n",
    "    SET Title = @Title, Content = @Content\n",
    "    WHERE PostID = @PostID;\n",
    "END;\n",
    "\n",
    "-- Functionality: Delete blog post by ID\n",
    "CREATE PROCEDURE DeleteBlogPost (\n",
    "    @PostID INT\n",
    ")\n",
    "AS\n",
    "BEGIN\n",
    "    DELETE FROM BlogPost WHERE PostID = @PostID;\n",
    "    -- Additional logic to delete associated comments, if needed\n",
    "END;\n",
    "\n",
    "-- Functionality: Add comment to a blog post\n",
    "CREATE PROCEDURE AddCommentToPost (\n",
    "    @PostID INT,\n",
    "    @UserID INT,\n",
    "    @ParentCommentID INT,\n",
    "    @CommentContent TEXT\n",
    ")\n",
    "AS\n",
    "BEGIN\n",
    "    INSERT INTO Comments (PostID, UserID, ParentCommentID, CommentContent, CommentDate)\n",
    "    VALUES (@PostID, @UserID, @ParentCommentID, @CommentContent, GETDATE());\n",
    "END;\n",
    "\n",
    "-- Functionality: Delete comment by ID\n",
    "CREATE PROCEDURE DeleteComment (\n",
    "    @CommentID INT\n",
    ")\n",
    "AS\n",
    "BEGIN\n",
    "    DELETE FROM Comments WHERE CommentID = @CommentID;\n",
    "END;\n",
    "\n",
    "-- Functionality: Fetch comments for a specific post\n",
    "CREATE PROCEDURE GetPostComments (\n",
    "    @PostID INT\n",
    ")\n",
    "AS\n",
    "BEGIN\n",
    "    SELECT * FROM Comments WHERE PostID = @PostID;\n",
    "END;\n",
    "\n",
    "</pre>"
   ]
  }
 ],
 "metadata": {
  "kernelspec": {
   "display_name": "Python 3",
   "language": "python",
   "name": "python3"
  },
  "language_info": {
   "name": "python",
   "version": "3.11.4"
  }
 },
 "nbformat": 4,
 "nbformat_minor": 2
}
